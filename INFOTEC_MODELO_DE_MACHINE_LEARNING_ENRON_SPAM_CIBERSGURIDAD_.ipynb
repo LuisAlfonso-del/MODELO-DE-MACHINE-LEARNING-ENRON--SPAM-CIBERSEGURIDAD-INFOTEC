{
  "nbformat": 4,
  "nbformat_minor": 0,
  "metadata": {
    "colab": {
      "provenance": []
    },
    "kernelspec": {
      "name": "python3",
      "display_name": "Python 3"
    },
    "language_info": {
      "name": "python"
    }
  },
  "cells": [
    {
      "cell_type": "markdown",
      "source": [
        "**Análisis del Dataset Enron-Spam mediante Técnicas de Machine Learning**"
      ],
      "metadata": {
        "id": "I8tvlYEzRKt-"
      }
    },
    {
      "cell_type": "markdown",
      "source": [
        "En este apartado se presenta el análisis del dataset Enron-Spam, el cual contiene correos electrónicos clasificados como spam y ham (no spam). Dicho conjunto de datos se encuentra disponible en la siguiente dirección: Khttps://www.kaggle.com/datasets/marcelwiechmann/enron-spam-data\n",
        "."
      ],
      "metadata": {
        "id": "pidPHKWOYf1O"
      }
    },
    {
      "cell_type": "markdown",
      "source": [
        "**Fase I.-** En esta primera fase se realiza la importación de las librerías para el análisis, así como una exploración inicial del dataset Enron-Spam. El objetivo es conocer la estructura de los datos y preparar el entorno de trabajo para aplicar las técnicas de Machine Learning en fases posteriores."
      ],
      "metadata": {
        "id": "8mN2N4n_YnVM"
      }
    },
    {
      "cell_type": "code",
      "source": [
        "import os # Librería para interactuar con el sistema de archivos (rutas, carpetas, etc.)\n",
        "import pandas as pd # Librería para manejo y análisis de datos en tablas (estructuras tipo DataFrame)\n",
        "from sklearn.feature_extraction.text import TfidfVectorizer #Librerias para analizar texto\n",
        "from sklearn.model_selection import train_test_split # Función de scikit-learn para dividir los datos en conjuntos de entrenamiento y prueba\n",
        "import matplotlib.pyplot as plt # Librería para crear gráficos y visualizaciones\n",
        "import kagglehub # Librería para descargar datasets directamente desde Kaggle en Google Colab\n",
        "\n"
      ],
      "metadata": {
        "id": "1WLb00QFoe5K"
      },
      "execution_count": 1,
      "outputs": []
    },
    {
      "cell_type": "markdown",
      "source": [
        "**Fase 2.-** Descargar el Dataset"
      ],
      "metadata": {
        "id": "LpazbTLbUJje"
      }
    },
    {
      "cell_type": "code",
      "source": [
        "# Descargar la ultima version de los datos\n",
        "path = kagglehub.dataset_download(\"marcelwiechmann/enron-spam-data\")\n",
        "\n",
        "#Leer el CSV (tras descomprimir si es necesario)\n",
        "csv_path = os.path.join(path, \"enron_spam_data.csv\")  # o .zip si prefieres leer sin descomprimir\n",
        "if os.path.exists(csv_path):\n",
        "    df = pd.read_csv(csv_path)\n",
        "else:\n",
        "#Si todavía está en ZIP, puedes usar:\n",
        "    df = pd.read_csv(path, compression='zip')\n",
        "\n",
        "print(df.head()) # Checar los primeros 5 datos"
      ],
      "metadata": {
        "id": "3JYjuuTsUKnK"
      },
      "execution_count": null,
      "outputs": []
    },
    {
      "cell_type": "code",
      "source": [
        "class_counts = df[\"Spam/Ham\"].value_counts()  # Ver distribución de clases,\n",
        "# Existen 17,171 correos de spam y 16,545 de no espam\n",
        "\n",
        "# Gráfico de barras de los correos\n",
        "plt.figure(figsize=(6,4))\n",
        "class_counts.plot(kind=\"bar\", color=[\"tomato\", \"skyblue\"])  # Colores diferentes para cada clase\n",
        "plt.title(\"Distribución de correos Spam vs Ham\")\n",
        "plt.xlabel(\"Clase\")\n",
        "plt.ylabel(\"Cantidad de correos\")\n",
        "plt.xticks(rotation=0)  # Mantener etiquetas horizontales\n",
        "plt.show()"
      ],
      "metadata": {
        "colab": {
          "base_uri": "https://localhost:8080/",
          "height": 411
        },
        "id": "qmp7Xjk9WAN3",
        "outputId": "5623a716-0b5a-4f0f-8f37-380100a5551e"
      },
      "execution_count": 6,
      "outputs": [
        {
          "output_type": "display_data",
          "data": {
            "text/plain": [
              "<Figure size 600x400 with 1 Axes>"
            ],
            "image/png": "[encoded data removed]"
          },
          "metadata": {}
        }
      ]
    },
    {
      "cell_type": "markdown",
      "source": [
        "**Fase 3**.- Limpieza del texto o preprocesamiento del texto es necesario para eliminar elementos irrelevantes que pueden afectar el rendimiento del modelo"
      ],
      "metadata": {
        "id": "4AFbZnxdXJHT"
      }
    },
    {
      "cell_type": "code",
      "source": [
        "# =============================\n",
        "# 2. Limpiar texto (recomendable)\n",
        "# =============================\n",
        "\n",
        "import re  # Librería de expresiones regulares (para buscar y reemplazar patrones en el texto)\n",
        "\n",
        "# Función para limpiar el texto de los correos\n",
        "def clean_text(text):\n",
        "    # Si el valor es NaN (faltante), devolver un string vacío\n",
        "    if pd.isna(text):\n",
        "        return \"\"\n",
        "    # Convertir todo el texto a minúsculas\n",
        "    text = text.lower()\n",
        "    # Eliminar URLs (ej. http://example.com)\n",
        "    text = re.sub(r\"http\\S+\", \" \", text)\n",
        "    # Eliminar números\n",
        "    text = re.sub(r\"\\d+\", \" \", text)\n",
        "    # Eliminar signos de puntuación y caracteres especiales (solo dejar letras y espacios)\n",
        "    text = re.sub(r\"[^\\w\\s]\", \" \", text)\n",
        "    return text  # Devolver el texto limpio\n",
        "\n",
        "# Crear nueva columna \"text\" uniendo el Subject y Message (si hay NaN se reemplaza con \"\")\n",
        "# Luego se aplica la función de limpieza definida arriba\n",
        "df[\"text\"] = (df[\"Subject\"].fillna(\"\") + \" \" + df[\"Message\"].fillna(\"\")).apply(clean_text)\n",
        "\n",
        "# Normalizar etiquetas: convertir columna \"Spam/Ham\" a minúsculas y guardarla como \"label\"\n",
        "df[\"label\"] = df[\"Spam/Ham\"].str.lower()\n",
        "\n",
        "\n",
        "# =============================\n",
        "# 3. Vectorización con TF-IDF\n",
        "# =============================\n",
        "\n",
        "# Inicializar el vectorizador TF-IDF\n",
        "# - stop_words=\"english\": elimina palabras vacías comunes en inglés (ej. \"the\", \"and\", \"is\")\n",
        "# - max_features=5000: se limita a las 5000 palabras más relevantes\n",
        "vectorizer = TfidfVectorizer(stop_words=\"english\", max_features=5000)\n",
        "\n",
        "# Transformar el texto en una matriz numérica (X = características, y = etiquetas)\n",
        "X = vectorizer.fit_transform(df[\"text\"])  # Matriz TF-IDF del texto\n",
        "y = df[\"label\"]  # Variable objetivo (spam o ham)\n"
      ],
      "metadata": {
        "id": "rSwT_xduWLDY"
      },
      "execution_count": null,
      "outputs": []
    }
  ]
}